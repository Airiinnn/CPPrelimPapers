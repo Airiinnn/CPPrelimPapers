{
 "cells": [
  {
   "cell_type": "code",
   "execution_count": 18,
   "metadata": {},
   "outputs": [
    {
     "name": "stdout",
     "output_type": "stream",
     "text": [
      "[1, 2, 2, 3, 3, 5]\n"
     ]
    }
   ],
   "source": [
    "# Task 2.1\n",
    "\n",
    "def insertionSort(arr):\n",
    "    n = len(arr)\n",
    "    \n",
    "    for i in range(1, n):\n",
    "        temp = arr[i]\n",
    "        j = i-1\n",
    "        \n",
    "        while (j >= 0 and temp < arr[j]):\n",
    "            arr[j+1] = arr[j]\n",
    "            j -= 1\n",
    "            \n",
    "        arr[j+1] = temp\n",
    "        \n",
    "    return arr\n",
    "\n",
    "# main\n",
    "print(insertionSort([3, 5, 2, 1, 2, 3]))"
   ]
  },
  {
   "cell_type": "code",
   "execution_count": 19,
   "metadata": {},
   "outputs": [
    {
     "name": "stdout",
     "output_type": "stream",
     "text": [
      "3 found at: 2 \n",
      "2 found at: 1 2 3 4 \n",
      "9 found at: 13 \n",
      "-1\n"
     ]
    }
   ],
   "source": [
    "# Task 2.2\n",
    "\n",
    "def binarySearch(arr, target):\n",
    "    found = False\n",
    "    low = 0\n",
    "    high = len(arr) - 1\n",
    "    \n",
    "    while high >= low and not found:\n",
    "        mid = (high + low) // 2\n",
    "        \n",
    "        if arr[mid] == target:\n",
    "            found = True\n",
    "            pos = [mid]\n",
    "            i = mid - 1\n",
    "            j = mid + 1\n",
    "            \n",
    "            while i >= low and arr[i] == target:\n",
    "                pos = [i] + pos\n",
    "                i -= 1\n",
    "                \n",
    "            while j <= high and arr[j] == target:\n",
    "                pos += [j]\n",
    "                j += 1\n",
    "            \n",
    "            print(f\"{target} found at: \", end=\"\")\n",
    "            for e in pos:\n",
    "                print(e, end=\" \")\n",
    "            print()\n",
    "            \n",
    "        elif arr[mid] < target:\n",
    "            low = mid + 1\n",
    "            \n",
    "        else: # arr[mid] > target\n",
    "            high = mid - 1\n",
    "            \n",
    "    if not found:\n",
    "        print(-1)\n",
    "            \n",
    "# main\n",
    "binarySearch([1, 2, 3, 4, 5, 6, 7, 8, 9], 3)\n",
    "binarySearch([1, 2, 2, 2, 2, 3, 3, 3, 4, 5, 6, 7, 8, 9], 2)\n",
    "binarySearch([1, 2, 2, 2, 2, 3, 3, 3, 4, 5, 6, 7, 8, 9], 9)\n",
    "binarySearch([1, 2, 2, 2, 2, 3, 3, 3, 4, 5, 6, 7, 8, 9], 13)"
   ]
  },
  {
   "cell_type": "code",
   "execution_count": 21,
   "metadata": {},
   "outputs": [
    {
     "name": "stdout",
     "output_type": "stream",
     "text": [
      "[11, 23, 23, 23, 23, 24, 24, 26, 32, 37, 43, 43, 43, 56, 61, 65, 65, 78, 86, 94]\n",
      "Target: 11\n",
      "11 found at: 0 \n",
      "Continue? (Y/N) N\n"
     ]
    }
   ],
   "source": [
    "# Task 2.3\n",
    "\n",
    "def menu():\n",
    "    with open(\"NUMBERS.txt\", 'r') as file:\n",
    "        lines = file.readlines()\n",
    "        nums = [int(line.strip()) for line in lines]\n",
    "\n",
    "    nums = insertionSort(nums)\n",
    "    print(nums)\n",
    "\n",
    "    run = 'Y'\n",
    "    \n",
    "    while run.upper() == 'Y':\n",
    "        target = int(input(\"Target: \"))\n",
    "        binarySearch(nums, target)\n",
    "        \n",
    "        run = input(\"Continue? (Y/N) \")\n",
    "        \n",
    "# main\n",
    "menu()"
   ]
  },
  {
   "cell_type": "code",
   "execution_count": 22,
   "metadata": {},
   "outputs": [
    {
     "name": "stdout",
     "output_type": "stream",
     "text": [
      "[11, 23, 23, 23, 23, 24, 24, 26, 32, 37, 43, 43, 43, 56, 61, 65, 65, 78, 86, 94]\n",
      "Target: 94\n",
      "94 found at: 19 \n",
      "Continue? (Y/N) Y\n",
      "Target: 43\n",
      "43 found at: 10 11 12 \n",
      "Continue? (Y/N) Y\n",
      "Target: 69\n",
      "-1\n",
      "Continue? (Y/N) N\n"
     ]
    }
   ],
   "source": [
    "# Task 2.4\n",
    "\n",
    "menu()"
   ]
  }
 ],
 "metadata": {
  "kernelspec": {
   "display_name": "Python 3",
   "language": "python",
   "name": "python3"
  },
  "language_info": {
   "codemirror_mode": {
    "name": "ipython",
    "version": 3
   },
   "file_extension": ".py",
   "mimetype": "text/x-python",
   "name": "python",
   "nbconvert_exporter": "python",
   "pygments_lexer": "ipython3",
   "version": "3.7.3"
  }
 },
 "nbformat": 4,
 "nbformat_minor": 2
}
