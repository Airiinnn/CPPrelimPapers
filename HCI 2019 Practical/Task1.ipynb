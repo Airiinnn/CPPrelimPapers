{
 "cells": [
  {
   "cell_type": "code",
   "execution_count": 25,
   "metadata": {},
   "outputs": [],
   "source": [
    "# Task 1.1\n",
    "\n",
    "def Price(start, end):\n",
    "    if start >= \"1700\": # start after 5pm\n",
    "        price = 3.00\n",
    "        \n",
    "    else: # start before 5pm\n",
    "        if end < \"1700\": # end before 5pm\n",
    "            hours = int(end[0:2]) - int(start[0:2]) + (int(end[2:]) > int(start[2:]))\n",
    "            price = hours * 1.50\n",
    "            \n",
    "        else: # end after 5pm\n",
    "            hours = 17 - int(start[0:2])\n",
    "            price = hours * 1.50 + 3.00\n",
    "            \n",
    "    return price"
   ]
  },
  {
   "cell_type": "code",
   "execution_count": 26,
   "metadata": {},
   "outputs": [],
   "source": [
    "# Task 1.2\n",
    "\n",
    "import csv\n",
    "\n",
    "with open(\"CARPARK.txt\", 'r') as file:\n",
    "    cars = list(csv.reader(file))\n",
    "        \n",
    "with open(\"CHARGE.txt\", \"w+\") as file:\n",
    "    for car in cars:\n",
    "        file.write(f\"{car[0]},{Price(car[1], car[2])}\\n\")"
   ]
  }
 ],
 "metadata": {
  "kernelspec": {
   "display_name": "Python 3",
   "language": "python",
   "name": "python3"
  },
  "language_info": {
   "codemirror_mode": {
    "name": "ipython",
    "version": 3
   },
   "file_extension": ".py",
   "mimetype": "text/x-python",
   "name": "python",
   "nbconvert_exporter": "python",
   "pygments_lexer": "ipython3",
   "version": "3.7.3"
  }
 },
 "nbformat": 4,
 "nbformat_minor": 2
}
